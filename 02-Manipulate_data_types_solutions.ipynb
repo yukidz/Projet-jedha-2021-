{
 "cells": [
  {
   "cell_type": "markdown",
   "metadata": {
    "colab_type": "text",
    "id": "kFGKKN4vbaaE"
   },
   "source": [
    "# Lists"
   ]
  },
  {
   "cell_type": "markdown",
   "metadata": {
    "colab_type": "text",
    "id": "UlVSgMBObdHP"
   },
   "source": [
    "Here is a list [\"Hello\", \"I\", “Michel”, “am”]\n",
    "\n",
    "    1. Store this list in a variable we'll call michel\n",
    "    2. Make a loop so that the console returns each of the items in the list\n"
   ]
  },
  {
   "cell_type": "code",
   "execution_count": 1,
   "metadata": {
    "colab": {
     "base_uri": "https://localhost:8080/",
     "height": 88
    },
    "colab_type": "code",
    "id": "RnQP07OQbJZy",
    "outputId": "e4a60cd9-35dc-49d8-e0e4-e66e7db017e7"
   },
   "outputs": [
    {
     "output_type": "stream",
     "name": "stdout",
     "text": [
      "Hello\nI\nMichel\nam\n"
     ]
    }
   ],
   "source": [
    "my_list = [\"Hello\", \"I\", \"Michel\", \"am\"]\n",
    "for word in my_list:\n",
    "  print(word)"
   ]
  },
  {
   "cell_type": "markdown",
   "metadata": {
    "colab_type": "text",
    "id": "xiFEi_IIbs7l"
   },
   "source": [
    "We have a problem with this sentence, two words are reversed. Find a way to invert the last item with the next-to-last item..."
   ]
  },
  {
   "cell_type": "code",
   "execution_count": 2,
   "metadata": {
    "colab": {
     "base_uri": "https://localhost:8080/",
     "height": 88
    },
    "colab_type": "code",
    "id": "fBz1VsYDbv-m",
    "outputId": "6e6e00c3-edac-4960-e65b-d76d39143d1e"
   },
   "outputs": [
    {
     "output_type": "stream",
     "name": "stdout",
     "text": [
      "Hello\nI\nam\nMichel\n"
     ]
    }
   ],
   "source": [
    "first_name = my_list.pop(2) # pop is used to remove one item from a list\n",
    "                            # assign the removed value to first_name\n",
    "my_list.append(first_name) # append first_name to the end of the list\n",
    "for word in my_list:\n",
    "    print(word)"
   ]
  },
  {
   "cell_type": "markdown",
   "metadata": {
    "colab_type": "text",
    "id": "hrZ1HLVneoRC"
   },
   "source": [
    "Here's a list of ages: [12, 16, 34, 58, 9].\n",
    "\n",
    "    1. Store this age list in a variable that we'll call: \n",
    "\n",
    "\n",
    "\n",
    "```\n",
    "age\n",
    "```\n",
    "\n",
    "\n",
    "\n",
    "    2. We would like this list to be arranged in ascending order, how do we do that?"
   ]
  },
  {
   "cell_type": "code",
   "execution_count": 3,
   "metadata": {
    "colab": {
     "base_uri": "https://localhost:8080/",
     "height": 34
    },
    "colab_type": "code",
    "id": "vRrlfGsQb0TA",
    "outputId": "6f19757d-d294-4a9f-c150-9bb2ca06c481"
   },
   "outputs": [
    {
     "output_type": "stream",
     "name": "stdout",
     "text": [
      "[9, 12, 16, 34, 58]\n"
     ]
    }
   ],
   "source": [
    "age = [12,16,34,58,9]\n",
    "order = age.pop(4)\n",
    "age.insert(0,order) # list in ascending order from 0 to ...\n",
    "print(age)"
   ]
  },
  {
   "cell_type": "markdown",
   "metadata": {
    "colab_type": "text",
    "id": "hyAAuD2-fFMD"
   },
   "source": [
    "# Dictionaries"
   ]
  },
  {
   "cell_type": "markdown",
   "metadata": {
    "colab_type": "text",
    "id": "3-kpKLpmfKGM"
   },
   "source": [
    "We told you that dictionaries are very useful with APIs, so let's try to use the Star Wars API.\n",
    "\n",
    "    1. In your text editor, write:\n",
    "    \n",
    "\n",
    "\n",
    "```\n",
    "import requests\n",
    "request = requests.get(\"https://swapi.dev/api/people/1/\")\n",
    "dic = request.json()\n",
    "```\n",
    "\n",
    "    2. This will make it possible to call the Star Wars API to store it on a dictionary format in a variable called _dic_.\n",
    "    \n",
    "    3. See what's in the dictionary via a loop\n",
    "    \n",
    "    4. We'd like to make a nice phrase to describe the character like this: \n",
    "    \n",
    "    “{{name}} is {{height}} cm tall and weighs {{mass}} kg. He was born in {{birth_year}}”\n"
   ]
  },
  {
   "cell_type": "code",
   "execution_count": 4,
   "metadata": {
    "colab": {
     "base_uri": "https://localhost:8080/",
     "height": 35
    },
    "colab_type": "code",
    "id": "Ef9wS-ule6Rs",
    "outputId": "9b99d534-01ae-46b4-b226-3bda2a197ef6"
   },
   "outputs": [
    {
     "output_type": "stream",
     "name": "stdout",
     "text": [
      "Luke Skywalker is 172 cm tall and weighs 77 kg. He was born in 19BBY\n"
     ]
    }
   ],
   "source": [
    "import requests\n",
    "request = requests.get(\"https://swapi.dev/api/people/1/\")\n",
    "dic = request.json()\n",
    "\n",
    "print(\"{} is {} cm tall and weighs {} kg. He was born in {}\".format(dic[\"name\"], dic[\"height\"], dic[\"mass\"], dic[\"birth_year\"])) # {} is used for beig remplaced by values"
   ]
  },
  {
   "cell_type": "code",
   "execution_count": 5,
   "metadata": {
    "colab": {
     "base_uri": "https://localhost:8080/",
     "height": 408
    },
    "colab_type": "code",
    "id": "UDTGrmOUfmgh",
    "outputId": "781ee5be-fe94-48e0-cf5f-e78bd69aa381"
   },
   "outputs": [
    {
     "output_type": "execute_result",
     "data": {
      "text/plain": [
       "{'name': 'Luke Skywalker',\n",
       " 'height': '172',\n",
       " 'mass': '77',\n",
       " 'hair_color': 'blond',\n",
       " 'skin_color': 'fair',\n",
       " 'eye_color': 'blue',\n",
       " 'birth_year': '19BBY',\n",
       " 'gender': 'male',\n",
       " 'homeworld': 'http://swapi.dev/api/planets/1/',\n",
       " 'films': ['http://swapi.dev/api/films/1/',\n",
       "  'http://swapi.dev/api/films/2/',\n",
       "  'http://swapi.dev/api/films/3/',\n",
       "  'http://swapi.dev/api/films/6/'],\n",
       " 'species': [],\n",
       " 'vehicles': ['http://swapi.dev/api/vehicles/14/',\n",
       "  'http://swapi.dev/api/vehicles/30/'],\n",
       " 'starships': ['http://swapi.dev/api/starships/12/',\n",
       "  'http://swapi.dev/api/starships/22/'],\n",
       " 'created': '2014-12-09T13:50:51.644000Z',\n",
       " 'edited': '2014-12-20T21:17:56.891000Z',\n",
       " 'url': 'http://swapi.dev/api/people/1/'}"
      ]
     },
     "metadata": {},
     "execution_count": 5
    }
   ],
   "source": [
    "dic"
   ]
  },
  {
   "cell_type": "markdown",
   "metadata": {
    "colab_type": "text",
    "id": "7DBymkERgDDu"
   },
   "source": [
    "   1. Import a new character by changing :\n",
    "    \n",
    "    \n",
    "```\n",
    "request = requests.get(\"https://swapi.dev/api/people/1/\")\n",
    "```\n",
    "\n",
    "by\n",
    "\n",
    "\n",
    " ```\n",
    "request = requests.get(\"https://swapi.dev/api/people/5/\")\n",
    "```\n",
    "\n",
    "2. Re-run your code, do you see a problem? Try to fix it.\n"
   ]
  },
  {
   "cell_type": "code",
   "execution_count": 6,
   "metadata": {
    "colab": {
     "base_uri": "https://localhost:8080/",
     "height": 34
    },
    "colab_type": "code",
    "id": "0AWON7CZf_aI",
    "outputId": "8ad3784a-0d9e-4a5a-ef05-9050de332da1"
   },
   "outputs": [
    {
     "output_type": "stream",
     "name": "stdout",
     "text": [
      "Leia Organa is 150 cm tall and weighs 49 kg. She was born in 19BBY\n"
     ]
    }
   ],
   "source": [
    "import requests\n",
    "number = 5\n",
    "request = requests.get(\"https://swapi.dev/api/people/{}/\".format(number))\n",
    "dic = request.json()\n",
    "\n",
    "if dic['gender'] == 'male':\n",
    "  print(\"{} is {} cm tall and weighs {} kg. He was born in {}\".format(dic[\"name\"], dic[\"height\"], dic[\"mass\"], dic[\"birth_year\"]))\n",
    "else :\n",
    "  print(\"{} is {} cm tall and weighs {} kg. She was born in {}\".format(dic[\"name\"], dic[\"height\"], dic[\"mass\"], dic[\"birth_year\"]))"
   ]
  },
  {
   "cell_type": "markdown",
   "metadata": {
    "colab_type": "text",
    "id": "aQsKk1BKg4Mt"
   },
   "source": [
    "# Slices"
   ]
  },
  {
   "cell_type": "markdown",
   "metadata": {
    "colab_type": "text",
    "id": "0PIM5zcfg94N"
   },
   "source": [
    " We have the following dataset: ` kilometres_travelled = [50, 10, 100, 25, 1000, 21, 12,30]`\n",
    " \n",
    "    1. This variable represents a list of kilometres travelled every morning by 8 users to work.\n",
    "    2. Using a loop, calculate the total average of all the users' trips\n",
    "    3. Is this average representative of what all individuals really go through? Why do you think so?"
   ]
  },
  {
   "cell_type": "code",
   "execution_count": 7,
   "metadata": {
    "colab": {
     "base_uri": "https://localhost:8080/",
     "height": 34
    },
    "colab_type": "code",
    "id": "GbysQcOhgfhF",
    "outputId": "2a436dee-11b0-4f76-8472-c720184fa356"
   },
   "outputs": [
    {
     "output_type": "stream",
     "name": "stdout",
     "text": [
      "On average, users travelled 156.0 km to get to work.\n"
     ]
    }
   ],
   "source": [
    "kilometres_travelled = [50, 10, 100, 25, 1000, 21, 12,30]\n",
    "total_km = 0\n",
    "total_users = 0\n",
    "\n",
    "for km in kilometres_travelled:\n",
    "    total_km += km # additionning all items and put into a variable\n",
    "    total_users += 1 # same\n",
    "\n",
    "average_km = total_km/total_users \n",
    "print(\"On average, users travelled {} km to get to work.\".format(average_km))"
   ]
  },
  {
   "cell_type": "markdown",
   "metadata": {
    "colab": {},
    "colab_type": "code",
    "id": "BIuuQo3vAQJS"
   },
   "source": [
    "This average is not really representative because it is higher than most of the values in the list. Indeed, the distances are all <= 100kms, except one which is worth 1000kms. This value is what is called an _outlier_ (\"outlier\"), which probably corresponds to an erroneous entry (it seems unlikely that someone would travel 1000km every morning to work). To get a more representative average of the sample, this outlier could be removed from the list before calculating the average."
   ]
  },
  {
   "cell_type": "markdown",
   "metadata": {
    "colab_type": "text",
    "id": "VL5vB43YhJV5"
   },
   "source": [
    "    4. Change the variable kilometers_travelled to have a more representative average\n"
   ]
  },
  {
   "cell_type": "code",
   "execution_count": 8,
   "metadata": {},
   "outputs": [
    {
     "output_type": "stream",
     "name": "stdout",
     "text": [
      "On average, users travelled 35.42857142857143 km to get to work.\n"
     ]
    }
   ],
   "source": [
    "kilometres_travelled.pop(4) # removing outlier\n",
    "total_km = 0\n",
    "total_users = 0\n",
    "\n",
    "for km in kilometres_travelled:\n",
    "    total_km += km\n",
    "    total_users += 1\n",
    "\n",
    "average_km = total_km/total_users\n",
    "print(\"On average, users travelled {} km to get to work.\".format(average_km))"
   ]
  }
 ],
 "metadata": {
  "colab": {
   "collapsed_sections": [],
   "name": "Manipuler des collections de données - SOLUTIONS S1-2A.ipynb",
   "provenance": []
  },
  "kernelspec": {
   "display_name": "Python 3",
   "language": "python",
   "name": "python3"
  },
  "language_info": {
   "codemirror_mode": {
    "name": "ipython",
    "version": 3
   },
   "file_extension": ".py",
   "mimetype": "text/x-python",
   "name": "python",
   "nbconvert_exporter": "python",
   "pygments_lexer": "ipython3",
   "version": "3.7.6-final"
  }
 },
 "nbformat": 4,
 "nbformat_minor": 1
}